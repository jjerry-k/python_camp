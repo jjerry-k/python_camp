{
 "cells": [
  {
   "cell_type": "markdown",
   "metadata": {},
   "source": [
    "# Python IDE\n",
    "---\n",
    "## Contents\n",
    "\n",
    "- IDE(Integrated Development Environment)\n",
    "\n",
    "### IDE?\n",
    "\n",
    "코딩, 디버그, 컴파일, 배포 등 프로그램 개발에 관련된 모든 작업을 하나의 프로그램 안에서 처리하는 환경을 제공하는 소프트웨어.\n",
    "- Visual Studio\n",
    "- Visual Studio Code\n",
    "- Eclipse\n",
    "- Pycharm\n",
    "- Atom\n",
    "- Jupyter\n",
    "- ..."
   ]
  }
 ],
 "metadata": {
  "kernelspec": {
   "display_name": "Python 3",
   "language": "python",
   "name": "python3"
  },
  "language_info": {
   "codemirror_mode": {
    "name": "ipython",
    "version": 3
   },
   "file_extension": ".py",
   "mimetype": "text/x-python",
   "name": "python",
   "nbconvert_exporter": "python",
   "pygments_lexer": "ipython3",
   "version": "3.6.6"
  }
 },
 "nbformat": 4,
 "nbformat_minor": 2
}
