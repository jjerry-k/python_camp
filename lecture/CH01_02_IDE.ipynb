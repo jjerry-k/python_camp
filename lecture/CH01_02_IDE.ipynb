{
 "cells": [
  {
   "cell_type": "markdown",
   "metadata": {},
   "source": [
    "# IDE\n",
    "---\n",
    "## Contents\n",
    "\n",
    "- IDE(Integrated Development Environment)\n",
    "- Anaconda\n",
    "### IDE?\n",
    "\n",
    "코딩, 디버그, 컴파일, 배포 등 프로그램 개발에 관련된 모든 작업을 하나의 프로그램 안에서 처리하는 환경을 제공하는 소프트웨어.\n",
    "- Visual Studio\n",
    "- Visual Studio Code\n",
    "- Eclipse\n",
    "- Pycharm\n",
    "- Atom\n",
    "- Jupyter\n",
    "- ...\n",
    "\n",
    "\n",
    "### Anaconda\n",
    "\n",
    "Python, R의 패키지와 의존성, 환경 등을 관리해주는 Tool.  \n",
    "Python의 특성상 다양한 package들이 필요한데 이를 효과적으로 관리가 가능함.  \n",
    "실제 pip등을 통해 일일히 설치하기 귀찮은 부분에 대한 해결책이 됨. \n",
    "설치 후엔 conda (=cross-platform package and environment manager) 명령어를 통해, 독립된 개발 환경들을 유지 관리할 수 있음.\n"
   ]
  }
 ],
 "metadata": {
  "kernelspec": {
   "display_name": "Python 3",
   "language": "python",
   "name": "python3"
  },
  "language_info": {
   "codemirror_mode": {
    "name": "ipython",
    "version": 3
   },
   "file_extension": ".py",
   "mimetype": "text/x-python",
   "name": "python",
   "nbconvert_exporter": "python",
   "pygments_lexer": "ipython3",
   "version": "3.6.6"
  }
 },
 "nbformat": 4,
 "nbformat_minor": 2
}
