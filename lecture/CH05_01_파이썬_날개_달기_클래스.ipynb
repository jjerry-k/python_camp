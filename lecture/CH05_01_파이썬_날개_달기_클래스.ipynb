{
 "cells": [
  {
   "cell_type": "markdown",
   "metadata": {},
   "source": [
    "# 05장 파이썬에 날개달기"
   ]
  },
  {
   "cell_type": "markdown",
   "metadata": {},
   "source": [
    "## 5-1 ) 클래스\n",
    "-----------------------------------------------------------------------"
   ]
  },
  {
   "cell_type": "markdown",
   "metadata": {},
   "source": [
    "### (1) 클래스와 객체\n",
    "* 과자틀 → 클래스 (class)  \n",
    "* 과자틀에 의해서 만들어진 과자들 → 객체 (object)  \n"
   ]
  },
  {
   "cell_type": "markdown",
   "metadata": {},
   "source": [
    "클래스(class) : 똑같은 무엇인가를 계속해서 만들어낼 수 있는 설계 도면  \n",
    "객체(object) : 클래스에 의해서 만들어진 피조물"
   ]
  },
  {
   "cell_type": "markdown",
   "metadata": {},
   "source": [
    "#### 파이썬 클래스의 가장 간단한 예\n",
    "아무런 기능도 갖고 있지 않은 클래스 생성"
   ]
  },
  {
   "cell_type": "code",
   "execution_count": null,
   "metadata": {},
   "outputs": [],
   "source": [
    "class Cookie:\n",
    "    pass"
   ]
  },
  {
   "cell_type": "markdown",
   "metadata": {},
   "source": [
    "클래스에 의해 무수히 많은 객체가 만들어짐"
   ]
  },
  {
   "cell_type": "code",
   "execution_count": null,
   "metadata": {},
   "outputs": [],
   "source": [
    "a = Cookie()\n",
    "b = Cookie()"
   ]
  },
  {
   "cell_type": "markdown",
   "metadata": {},
   "source": [
    "**[객체와 인스턴스의 차이]**\n"
   ]
  },
  {
   "cell_type": "code",
   "execution_count": null,
   "metadata": {},
   "outputs": [],
   "source": [
    "a = Cookie()"
   ]
  },
  {
   "cell_type": "markdown",
   "metadata": {},
   "source": [
    "a : 객체  \n",
    "a : 클래스 Cookie의 인스턴스  \n",
    "\n",
    "-----------------------"
   ]
  },
  {
   "cell_type": "markdown",
   "metadata": {},
   "source": [
    "### (2) 사칙연산 클래스 만들기\n",
    "**클래스를 어떻게 만들지 먼저 구상하기**  \n",
    "사칙연산을 가능하게 하는 **FourCal**이라는 클래스를 만들어보자.  \n",
    "\n"
   ]
  },
  {
   "cell_type": "markdown",
   "metadata": {},
   "source": [
    "1. 클래스 FourCal을 사용해서 객체를 만든다.  \n",
    "2. 숫자를 객체에 지정해준다.  \n",
    "3. add() 메서드를 수행하면 두 수를 합한 결과를 돌려준다.\n",
    "4. mul() 메서드를 수행하면 두 수를 곱한 결과를 돌려준다.  \n",
    "5. sub() 메서드를 수행하면 두 수를 뺀 결과를 돌려준다.  \n",
    "6. div() 메서드를 수행하면 두 수를 나눈 결과를 돌려준다.  "
   ]
  },
  {
   "cell_type": "markdown",
   "metadata": {},
   "source": [
    "**클래스 구조 만들기**"
   ]
  },
  {
   "cell_type": "code",
   "execution_count": null,
   "metadata": {},
   "outputs": [],
   "source": [
    "class FourCal:\n",
    "    pass"
   ]
  },
  {
   "cell_type": "markdown",
   "metadata": {},
   "source": [
    "현재 FourCal 클래스는 아무런 변수나 메서드도 포함하고있지 않지만 우릭 ㅏ원하는 객체를 만들 수는 있다."
   ]
  },
  {
   "cell_type": "code",
   "execution_count": null,
   "metadata": {},
   "outputs": [],
   "source": [
    "a = FourCal();\n",
    "type(a)"
   ]
  },
  {
   "cell_type": "markdown",
   "metadata": {},
   "source": [
    "**객체에 숫자 지정할 수 있게 만들기**"
   ]
  },
  {
   "cell_type": "code",
   "execution_count": null,
   "metadata": {},
   "outputs": [],
   "source": [
    "a.setdata(4,2)"
   ]
  },
  {
   "cell_type": "markdown",
   "metadata": {},
   "source": [
    "**메서드(Method)**  \n",
    "클래스 안에 구현된 함수  \n"
   ]
  },
  {
   "cell_type": "code",
   "execution_count": null,
   "metadata": {},
   "outputs": [],
   "source": [
    "class FourCal:\n",
    "    def setdata(self,first,second):    #매개변수 (argument)\n",
    "        self.first = first             #메서드의 수행문\n",
    "        self.second = second           #메서드의 수행문"
   ]
  },
  {
   "cell_type": "markdown",
   "metadata": {},
   "source": [
    "> 두 개의 숫자만 입력받으려고 했는데... **self는 뭐예요?**"
   ]
  },
  {
   "cell_type": "code",
   "execution_count": null,
   "metadata": {},
   "outputs": [],
   "source": [
    "a = FourCal()\n",
    "a.setdata(4, 2)"
   ]
  },
  {
   "cell_type": "markdown",
   "metadata": {},
   "source": [
    "setdata라는 메서드는 총 3개의 매개변수를 필요로 하는데 실제로는 2개의 값만 전달된다.  \n",
    "왜 그럴까?  \n",
    "*객체를 통해 클래스의 메서드를 호출하려면 **도트(.)연산자**를 이용해야 한다.*"
   ]
  },
  {
   "cell_type": "code",
   "execution_count": null,
   "metadata": {},
   "outputs": [],
   "source": [
    "from IPython.display import Image\n",
    "PATH = \"figures\"\n",
    "Image(filename = PATH + \"/class_01.png\", width=500)"
   ]
  },
  {
   "cell_type": "markdown",
   "metadata": {},
   "source": [
    "**파이썬 메서드의 첫번째 매개변수명은 관례적으로 self라는 이름을 사용한다.**  \n",
    "호출 시 호출한 객체 자신이 전달되기 때문에 self라는 이름을 사용하게 된 것이다.  \n",
    "물론 self말고 다른 이름을 사용해도 상관은 없다."
   ]
  },
  {
   "cell_type": "markdown",
   "metadata": {},
   "source": [
    "**setdata 메서드의 수행문**  \n",
    "setdata 메서드에는 수행할 문장이 2개 있다."
   ]
  },
  {
   "cell_type": "code",
   "execution_count": null,
   "metadata": {},
   "outputs": [],
   "source": [
    "self.first = first\n",
    "self.second = second"
   ]
  },
  {
   "cell_type": "code",
   "execution_count": null,
   "metadata": {},
   "outputs": [],
   "source": [
    "# 객체변수 초기화\n",
    "a.first = 4\n",
    "a.second = 2"
   ]
  },
  {
   "cell_type": "markdown",
   "metadata": {},
   "source": [
    "**더하기 기능 만들기**  \n",
    "2개의 숫자를 더하는 기능을 추가해보자."
   ]
  },
  {
   "cell_type": "code",
   "execution_count": null,
   "metadata": {},
   "outputs": [],
   "source": [
    "class FourCal:\n",
    "    def setdata(self,first,second):    #매개변수 (argument)\n",
    "        self.first = first             #메서드의 수행문\n",
    "        self.second = second           #메서드의 수행문\n",
    "    \n",
    "    def add(self):\n",
    "        result = self.first + self.second\n",
    "        return result"
   ]
  },
  {
   "cell_type": "code",
   "execution_count": null,
   "metadata": {},
   "outputs": [],
   "source": [
    "a = FourCal()\n",
    "a.setdata(4,2)\n",
    "print(a.add())"
   ]
  },
  {
   "cell_type": "markdown",
   "metadata": {},
   "source": [
    "**곱하기,빼기,나누기 기능 만들기**"
   ]
  },
  {
   "cell_type": "code",
   "execution_count": null,
   "metadata": {},
   "outputs": [],
   "source": [
    "class FourCal:\n",
    "    def setdata(self,first,second):    \n",
    "        self.first = first             \n",
    "        self.second = second           \n",
    "    \n",
    "    def add(self):\n",
    "        result = self.first + self.second\n",
    "        return result\n",
    "    \n",
    "    # 곱하기\n",
    "    def mul(self):\n",
    "        result = self.first * self.second\n",
    "        return result\n",
    "    \n",
    "    # 빼기\n",
    "    def sub(self):\n",
    "        result = self.first - self.second\n",
    "        return result\n",
    "    \n",
    "    # 곱하기\n",
    "    def div(self):\n",
    "        result = self.first / self.second\n",
    "        return result"
   ]
  },
  {
   "cell_type": "code",
   "execution_count": null,
   "metadata": {},
   "outputs": [],
   "source": [
    "a = FourCal()\n",
    "b = FourCal()\n",
    "a.setdata(4,2)\n",
    "b.setdata(3,7)"
   ]
  },
  {
   "cell_type": "code",
   "execution_count": null,
   "metadata": {},
   "outputs": [],
   "source": [
    "a.add()"
   ]
  },
  {
   "cell_type": "code",
   "execution_count": null,
   "metadata": {},
   "outputs": [],
   "source": [
    "a.sub()"
   ]
  },
  {
   "cell_type": "code",
   "execution_count": null,
   "metadata": {},
   "outputs": [],
   "source": [
    "a.div()"
   ]
  },
  {
   "cell_type": "code",
   "execution_count": null,
   "metadata": {},
   "outputs": [],
   "source": [
    "b.add()"
   ]
  },
  {
   "cell_type": "code",
   "execution_count": null,
   "metadata": {},
   "outputs": [],
   "source": [
    "b.mul()"
   ]
  },
  {
   "cell_type": "code",
   "execution_count": null,
   "metadata": {},
   "outputs": [],
   "source": [
    "b.sub()"
   ]
  },
  {
   "cell_type": "code",
   "execution_count": null,
   "metadata": {},
   "outputs": [],
   "source": [
    "b.div()"
   ]
  },
  {
   "cell_type": "markdown",
   "metadata": {},
   "source": [
    "--------------\n",
    "## <Question 01>\n",
    "> **「\"비행기 클래스를 사용하여 두 개의 전세기를 만들어보자.\"」**  \n",
    "\n",
    "비행기 클래스가 가지고 있는 메서드는 다음과 같다.  \n",
    "1. flying  \n",
    "2. engine_break  \n",
    "3. take_off  \n",
    "4. landing  \n"
   ]
  },
  {
   "cell_type": "markdown",
   "metadata": {},
   "source": [
    "전세기의 이름은 **'KoreanAir', 'Asiana'** 이다.  \n",
    "다음의 코드를 입력했을 때, 아래와 같이 출력된다."
   ]
  },
  {
   "cell_type": "code",
   "execution_count": 2,
   "metadata": {},
   "outputs": [],
   "source": [
    "KoreanAir = Flight()\n",
    "Asiana = Flight()"
   ]
  },
  {
   "cell_type": "code",
   "execution_count": 3,
   "metadata": {},
   "outputs": [
    {
     "name": "stdout",
     "output_type": "stream",
     "text": [
      "비행기가 비행중입니다.\n"
     ]
    }
   ],
   "source": [
    "KoreanAir.flying()"
   ]
  },
  {
   "cell_type": "code",
   "execution_count": 4,
   "metadata": {},
   "outputs": [
    {
     "name": "stdout",
     "output_type": "stream",
     "text": [
      "비행기의 엔진이 고장났습니다.\n"
     ]
    }
   ],
   "source": [
    "Asiana.engine_break()"
   ]
  },
  {
   "cell_type": "code",
   "execution_count": 5,
   "metadata": {},
   "outputs": [
    {
     "name": "stdout",
     "output_type": "stream",
     "text": [
      "비행기가 인천에서 출발합니다.\n"
     ]
    }
   ],
   "source": [
    "KoreanAir.take_off('인천')"
   ]
  },
  {
   "cell_type": "code",
   "execution_count": 6,
   "metadata": {},
   "outputs": [
    {
     "name": "stdout",
     "output_type": "stream",
     "text": [
      "비행기가 영국에 도착했습니다.\n"
     ]
    }
   ],
   "source": [
    "Asiana.landing('영국')"
   ]
  },
  {
   "cell_type": "code",
   "execution_count": null,
   "metadata": {},
   "outputs": [],
   "source": [
    "class Flight:\n",
    "    \n",
    "    def ..."
   ]
  },
  {
   "cell_type": "code",
   "execution_count": null,
   "metadata": {},
   "outputs": [],
   "source": []
  },
  {
   "cell_type": "code",
   "execution_count": null,
   "metadata": {},
   "outputs": [],
   "source": []
  },
  {
   "cell_type": "code",
   "execution_count": null,
   "metadata": {},
   "outputs": [],
   "source": []
  },
  {
   "cell_type": "code",
   "execution_count": 1,
   "metadata": {},
   "outputs": [],
   "source": [
    "class Flight:\n",
    "\n",
    "    def flying(self):\n",
    "        print('비행기가 비행중입니다.')\n",
    "        \n",
    "    def engine_break(self):\n",
    "        print('비행기의 엔진이 고장났습니다.')\n",
    "        \n",
    "    def take_off(self,place):\n",
    "        print('비행기가 '+ place+'에서 출발합니다.')\n",
    "    \n",
    "    def landing(self, place):\n",
    "        print('비행기가 '+place+'에 도착했습니다.')"
   ]
  },
  {
   "cell_type": "code",
   "execution_count": null,
   "metadata": {},
   "outputs": [],
   "source": []
  }
 ],
 "metadata": {
  "kernelspec": {
   "display_name": "Python 3",
   "language": "python",
   "name": "python3"
  },
  "language_info": {
   "codemirror_mode": {
    "name": "ipython",
    "version": 3
   },
   "file_extension": ".py",
   "mimetype": "text/x-python",
   "name": "python",
   "nbconvert_exporter": "python",
   "pygments_lexer": "ipython3",
   "version": "3.6.8"
  }
 },
 "nbformat": 4,
 "nbformat_minor": 2
}
