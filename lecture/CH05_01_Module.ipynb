{
 "cells": [
  {
   "cell_type": "markdown",
   "metadata": {},
   "source": [
    "# Module\n",
    "\n",
    "- 함수, 클래스등을 모아놓은 스크립트 파일.\n"
   ]
  },
  {
   "cell_type": "code",
   "execution_count": 1,
   "metadata": {},
   "outputs": [
    {
     "name": "stdout",
     "output_type": "stream",
     "text": [
      "Overwriting my_math.py\n"
     ]
    }
   ],
   "source": [
    "%%writefile my_math.py\n",
    "def add(x, y):\n",
    "    \"\"\"\n",
    "    x+y\n",
    "    \"\"\"\n",
    "    return x + y\n",
    "\n",
    "def sub(x, y):\n",
    "    \"\"\"\n",
    "    x-y\n",
    "    \"\"\"\n",
    "    return x - y\n",
    "\n",
    "def mul(x, y):\n",
    "    \"\"\"\n",
    "    x*y\n",
    "    \"\"\"\n",
    "    return x*y\n",
    "\n",
    "def div(x, y):\n",
    "    \"\"\"\n",
    "    x/y\n",
    "    \"\"\"\n",
    "    return x/y\n",
    "\n",
    "class fucts():\n",
    "    def __init__(self, x, y):\n",
    "        self.x = x\n",
    "        self.y = y\n",
    "        self.add = add(x, y)\n",
    "        self.sub = sub(x, y)\n",
    "        self.mul = mul(x, y)\n",
    "        self.div = div(x, y)"
   ]
  },
  {
   "cell_type": "code",
   "execution_count": 2,
   "metadata": {},
   "outputs": [],
   "source": [
    "import my_math as mm"
   ]
  },
  {
   "cell_type": "code",
   "execution_count": 3,
   "metadata": {},
   "outputs": [
    {
     "name": "stdout",
     "output_type": "stream",
     "text": [
      "7\n",
      "3\n",
      "10\n",
      "2.5\n"
     ]
    }
   ],
   "source": [
    "print(mm.add(5, 2))\n",
    "print(mm.sub(5, 2))\n",
    "print(mm.mul(5, 2))\n",
    "print(mm.div(5, 2))"
   ]
  },
  {
   "cell_type": "code",
   "execution_count": 6,
   "metadata": {},
   "outputs": [
    {
     "name": "stdout",
     "output_type": "stream",
     "text": [
      "5 2\n",
      "7\n",
      "3\n",
      "10\n",
      "2.5\n"
     ]
    }
   ],
   "source": [
    "test = mm.fucts(5, 2)\n",
    "print(test.x, test.y)\n",
    "print(test.add)\n",
    "print(test.sub)\n",
    "print(test.mul)\n",
    "print(test.div)"
   ]
  },
  {
   "cell_type": "code",
   "execution_count": null,
   "metadata": {},
   "outputs": [],
   "source": [
    "from my_math import *\n",
    "\n",
    "print(add(5, 2))\n",
    "print(sub(5, 2))\n",
    "print(mul(5, 2))\n",
    "print(div(5, 2))\n",
    "\n",
    "test = fucts(5, 2)\n",
    "print(test.x, test.y)\n",
    "print(test.add)\n",
    "print(test.sub)\n",
    "print(test.mul)\n",
    "print(test.div)"
   ]
  },
  {
   "cell_type": "markdown",
   "metadata": {},
   "source": [
    "# Package\n",
    "- 모듈들을 디렉토리의 구조로 관리할 수 있도록 해줌."
   ]
  },
  {
   "cell_type": "markdown",
   "metadata": {},
   "source": [
    "# Built-in Functions \n",
    "\n",
    "<img src=\"./figures/built_in_function.png\">"
   ]
  },
  {
   "cell_type": "markdown",
   "metadata": {},
   "source": [
    "# Error & Exception\n",
    "\n",
    "- 프로그램을 통한 제어의 흐름을 수정할 수있는 이벤트.\n",
    "\n",
    "- try/except\n",
    "- try/finally\n",
    "- raise\n",
    "- assert\n",
    "- with/as"
   ]
  }
 ],
 "metadata": {
  "kernelspec": {
   "display_name": "Python 3",
   "language": "python",
   "name": "python3"
  },
  "language_info": {
   "codemirror_mode": {
    "name": "ipython",
    "version": 3
   },
   "file_extension": ".py",
   "mimetype": "text/x-python",
   "name": "python",
   "nbconvert_exporter": "python",
   "pygments_lexer": "ipython3",
   "version": "3.6.6"
  }
 },
 "nbformat": 4,
 "nbformat_minor": 2
}
