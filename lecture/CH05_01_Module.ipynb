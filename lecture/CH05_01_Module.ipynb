{
 "cells": [
  {
   "cell_type": "markdown",
   "metadata": {},
   "source": [
    "# Built-in Functions \n",
    "\n",
    "- 파이썬에는 기본적으로 많은 함수들을 제공.\n",
    "\n",
    "- [참고 링크](https://docs.python.org/ko/3/library/functions.html)\n",
    "\n",
    "<img src=\"./figures/built_in_function.png\">"
   ]
  },
  {
   "cell_type": "code",
   "execution_count": 5,
   "metadata": {},
   "outputs": [
    {
     "name": "stdout",
     "output_type": "stream",
     "text": [
      "Test abs :  5\n",
      "Test sum :  25\n",
      "Test max :  300\n",
      "Test min :  10\n",
      "Test pow :  625\n",
      "Test round :  3\n",
      "Test sorted :  [1, 2, 3, 4, 5]\n",
      "Test len :  6\n"
     ]
    }
   ],
   "source": [
    "# abs()\n",
    "print(\"Test abs : \", abs(-5))\n",
    "\n",
    "# sum()\n",
    "print(\"Test sum : \", sum([1, 2, 4, 5, 6, 7]))\n",
    "\n",
    "# max()\n",
    "print(\"Test max : \", max(50, 30, 10, 55, 20, 300))\n",
    "\n",
    "# min()\n",
    "print(\"Test min : \", min(50, 30, 10, 55, 20, 300))\n",
    "\n",
    "# pow()\n",
    "print(\"Test pow : \", pow(5, 4))\n",
    "\n",
    "# round()\n",
    "print(\"Test round : \", round(3.2245))\n",
    "\n",
    "# sorted()\n",
    "print(\"Test sorted : \", sorted([5,4,3,2,1]))\n",
    "\n",
    "# len()\n",
    "print(\"Test len : \", len(\"python\"))"
   ]
  },
  {
   "cell_type": "markdown",
   "metadata": {},
   "source": [
    "# Module\n",
    "\n",
    "- 함수, 클래스등을 모아놓은 스크립트 파일.\n",
    "\n",
    "## Why Use Module\n",
    "- 효율성\n",
    "    - 자주 사용하는 함수....매번 스크립트에 선언하기 귀찮음..\n",
    "    - 스크립트에 **딱 한번** 적어놓고 쓰자!"
   ]
  },
  {
   "cell_type": "code",
   "execution_count": 6,
   "metadata": {},
   "outputs": [
    {
     "name": "stdout",
     "output_type": "stream",
     "text": [
      "Overwriting arithmetic.py\n"
     ]
    }
   ],
   "source": [
    "%%writefile arithmetic.py\n",
    "def add(x, y):\n",
    "    \"\"\"\n",
    "    x+y\n",
    "    \"\"\"\n",
    "    return x + y\n",
    "\n",
    "def sub(x, y):\n",
    "    \"\"\"\n",
    "    x-y\n",
    "    \"\"\"\n",
    "    return x - y\n",
    "\n",
    "def mul(x, y):\n",
    "    \"\"\"\n",
    "    x*y\n",
    "    \"\"\"\n",
    "    return x*y\n",
    "\n",
    "def div(x, y):\n",
    "    \"\"\"\n",
    "    x/y\n",
    "    \"\"\"\n",
    "    return x/y"
   ]
  },
  {
   "cell_type": "markdown",
   "metadata": {},
   "source": [
    "```python\n",
    "import 모듈이름\n",
    "```\n",
    "- 모듈을 import 하겠다."
   ]
  },
  {
   "cell_type": "code",
   "execution_count": 7,
   "metadata": {},
   "outputs": [],
   "source": [
    "import arithmetic"
   ]
  },
  {
   "cell_type": "code",
   "execution_count": 8,
   "metadata": {},
   "outputs": [
    {
     "name": "stdout",
     "output_type": "stream",
     "text": [
      "7\n",
      "3\n",
      "10\n",
      "2.5\n"
     ]
    }
   ],
   "source": [
    "print(arithmetic.add(5, 2))\n",
    "print(arithmetic.sub(5, 2))\n",
    "print(arithmetic.mul(5, 2))\n",
    "print(arithmetic.div(5, 2))"
   ]
  },
  {
   "cell_type": "markdown",
   "metadata": {},
   "source": [
    "``` python\n",
    "import 모듈이름 as 별칭\n",
    "```\n",
    "- 모듈이름을 import 하고 별칭 이라고 하겠다."
   ]
  },
  {
   "cell_type": "code",
   "execution_count": 9,
   "metadata": {},
   "outputs": [],
   "source": [
    "import arithmetic as am"
   ]
  },
  {
   "cell_type": "code",
   "execution_count": 10,
   "metadata": {},
   "outputs": [
    {
     "name": "stdout",
     "output_type": "stream",
     "text": [
      "7\n",
      "3\n",
      "10\n",
      "2.5\n"
     ]
    }
   ],
   "source": [
    "print(am.add(5, 2))\n",
    "print(am.sub(5, 2))\n",
    "print(am.mul(5, 2))\n",
    "print(am.div(5, 2))"
   ]
  },
  {
   "cell_type": "markdown",
   "metadata": {},
   "source": [
    "```python\n",
    "from 모듈이름 import 모듈 함수 \n",
    "```\n",
    "- 모듈이름 에서 모듈함수를 import 하겠다.\n",
    "\n",
    "```python\n",
    "from 모듈이름 import * \n",
    "```\n",
    "- 모듈이름 에서 모든 모듈함수를 import 하겠다."
   ]
  },
  {
   "cell_type": "code",
   "execution_count": 11,
   "metadata": {},
   "outputs": [],
   "source": [
    "from arithmetic import *"
   ]
  },
  {
   "cell_type": "code",
   "execution_count": 12,
   "metadata": {},
   "outputs": [
    {
     "name": "stdout",
     "output_type": "stream",
     "text": [
      "7\n",
      "3\n",
      "10\n",
      "2.5\n"
     ]
    }
   ],
   "source": [
    "print(add(5, 2))\n",
    "print(sub(5, 2))\n",
    "print(mul(5, 2))\n",
    "print(div(5, 2))"
   ]
  },
  {
   "cell_type": "markdown",
   "metadata": {},
   "source": [
    "``` python\n",
    "from 모듈이름 import 모듈함수 as 별칭\n",
    "```\n",
    "\n",
    "- 모듈이름 에서 모듈함수를 import 하고 별칭 이라고 하겠다."
   ]
  },
  {
   "cell_type": "code",
   "execution_count": 13,
   "metadata": {},
   "outputs": [],
   "source": [
    "from arithmetic import add as func_1\n",
    "from arithmetic import sub as func_2\n",
    "from arithmetic import mul as func_3\n",
    "from arithmetic import div as func_4"
   ]
  },
  {
   "cell_type": "code",
   "execution_count": 14,
   "metadata": {},
   "outputs": [
    {
     "name": "stdout",
     "output_type": "stream",
     "text": [
      "7\n",
      "3\n",
      "10\n",
      "2.5\n"
     ]
    }
   ],
   "source": [
    "print(func_1(5, 2))\n",
    "print(func_2(5, 2))\n",
    "print(func_3(5, 2))\n",
    "print(func_4(5, 2))"
   ]
  },
  {
   "cell_type": "markdown",
   "metadata": {},
   "source": [
    "# Package\n",
    "- 모듈들을 폴더(디렉토리)의 구조로 관리할 수 있도록 해줌.\n",
    "\n",
    "<img src='./figures/package.png'>\n",
    "\n",
    "- 모듈을 패키지로 취급하게 하기 위해선 __init__.py 파일이 필요.\n",
    "    - python 3.3 이상에선 필요 없으나 호환성을 위해....."
   ]
  },
  {
   "cell_type": "code",
   "execution_count": 1,
   "metadata": {},
   "outputs": [
    {
     "name": "stdout",
     "output_type": "stream",
     "text": [
      "3\n",
      "-1\n",
      "2\n",
      "0.5\n"
     ]
    }
   ],
   "source": [
    "from self_package import test_math as package\n",
    "print(package.add(1, 2))\n",
    "print(package.sub(1, 2))\n",
    "print(package.mul(1, 2))\n",
    "print(package.div(1, 2))"
   ]
  },
  {
   "cell_type": "code",
   "execution_count": 2,
   "metadata": {},
   "outputs": [
    {
     "name": "stdout",
     "output_type": "stream",
     "text": [
      "3\n",
      "-1\n",
      "2\n",
      "0.5\n"
     ]
    }
   ],
   "source": [
    "from self_package.module1 import test_math as module1\n",
    "print(module1.add(1, 2))\n",
    "print(module1.sub(1, 2))\n",
    "print(module1.mul(1, 2))\n",
    "print(module1.div(1, 2))"
   ]
  },
  {
   "cell_type": "code",
   "execution_count": 3,
   "metadata": {},
   "outputs": [
    {
     "name": "stdout",
     "output_type": "stream",
     "text": [
      "3\n",
      "-1\n",
      "2\n",
      "0.5\n"
     ]
    }
   ],
   "source": [
    "from self_package.module2 import test_math as module2\n",
    "print(module2.add(1, 2))\n",
    "print(module2.sub(1, 2))\n",
    "print(module2.mul(1, 2))\n",
    "print(module2.div(1, 2))"
   ]
  },
  {
   "cell_type": "code",
   "execution_count": 26,
   "metadata": {},
   "outputs": [],
   "source": [
    "from test_dir.sub_test1 import test as sub1"
   ]
  },
  {
   "cell_type": "code",
   "execution_count": null,
   "metadata": {},
   "outputs": [],
   "source": [
    "sub1.add()"
   ]
  },
  {
   "cell_type": "code",
   "execution_count": 27,
   "metadata": {},
   "outputs": [],
   "source": [
    "from test_dir.sub_test2 import test as sub2"
   ]
  },
  {
   "cell_type": "markdown",
   "metadata": {},
   "source": [
    "# Error & Exception\n",
    "\n",
    "- 프로그램을 통한 제어의 흐름을 수정할 수있는 이벤트.\n",
    "\n",
    "- SyntaxError\n",
    "    - 문법 에러, 파싱 에러라고 하며 이름 그대로 문법에 오류가 있을 때 발생하는 에러.\n",
    "    - 에러가 발생한 위치를 ^ 를 이용하여 표시해줌.\n",
    "   \n",
    "- Exception\n",
    "    - 문법, 표현식에는 문제가 없지만 다른 이유로 발생하는 에러.\n",
    "    - 예외가 발생한 Line을 표시.\n",
    "    \n",
    "    \n",
    "- try/except/finally\n",
    "- raise\n",
    "- assert"
   ]
  },
  {
   "cell_type": "code",
   "execution_count": 15,
   "metadata": {},
   "outputs": [
    {
     "ename": "SyntaxError",
     "evalue": "unexpected EOF while parsing (<ipython-input-15-57179e59749b>, line 1)",
     "output_type": "error",
     "traceback": [
      "\u001b[1;36m  File \u001b[1;32m\"<ipython-input-15-57179e59749b>\"\u001b[1;36m, line \u001b[1;32m1\u001b[0m\n\u001b[1;33m    print(\"sdw\"\u001b[0m\n\u001b[1;37m               ^\u001b[0m\n\u001b[1;31mSyntaxError\u001b[0m\u001b[1;31m:\u001b[0m unexpected EOF while parsing\n"
     ]
    }
   ],
   "source": [
    "print(\"sdw\""
   ]
  },
  {
   "cell_type": "code",
   "execution_count": 16,
   "metadata": {},
   "outputs": [
    {
     "ename": "IndentationError",
     "evalue": "expected an indented block (<ipython-input-16-711b1e1e2386>, line 2)",
     "output_type": "error",
     "traceback": [
      "\u001b[1;36m  File \u001b[1;32m\"<ipython-input-16-711b1e1e2386>\"\u001b[1;36m, line \u001b[1;32m2\u001b[0m\n\u001b[1;33m    print(\"Hello\")\u001b[0m\n\u001b[1;37m        ^\u001b[0m\n\u001b[1;31mIndentationError\u001b[0m\u001b[1;31m:\u001b[0m expected an indented block\n"
     ]
    }
   ],
   "source": [
    "if i:\n",
    "print(\"Hello\")"
   ]
  },
  {
   "cell_type": "code",
   "execution_count": 17,
   "metadata": {},
   "outputs": [
    {
     "ename": "NameError",
     "evalue": "name 'test' is not defined",
     "output_type": "error",
     "traceback": [
      "\u001b[1;31m---------------------------------------------------------------------------\u001b[0m",
      "\u001b[1;31mNameError\u001b[0m                                 Traceback (most recent call last)",
      "\u001b[1;32m<ipython-input-17-4ddfce83ccd5>\u001b[0m in \u001b[0;36m<module>\u001b[1;34m\u001b[0m\n\u001b[1;32m----> 1\u001b[1;33m \u001b[0mprint\u001b[0m\u001b[1;33m(\u001b[0m\u001b[0mtest\u001b[0m\u001b[1;33m)\u001b[0m\u001b[1;33m\u001b[0m\u001b[1;33m\u001b[0m\u001b[0m\n\u001b[0m",
      "\u001b[1;31mNameError\u001b[0m: name 'test' is not defined"
     ]
    }
   ],
   "source": [
    "print(test)"
   ]
  },
  {
   "cell_type": "code",
   "execution_count": 18,
   "metadata": {},
   "outputs": [
    {
     "ename": "ZeroDivisionError",
     "evalue": "division by zero",
     "output_type": "error",
     "traceback": [
      "\u001b[1;31m---------------------------------------------------------------------------\u001b[0m",
      "\u001b[1;31mZeroDivisionError\u001b[0m                         Traceback (most recent call last)",
      "\u001b[1;32m<ipython-input-18-d2c0889640ff>\u001b[0m in \u001b[0;36m<module>\u001b[1;34m\u001b[0m\n\u001b[1;32m----> 1\u001b[1;33m \u001b[0mprint\u001b[0m\u001b[1;33m(\u001b[0m\u001b[1;36m2\u001b[0m\u001b[1;33m/\u001b[0m\u001b[1;36m0\u001b[0m\u001b[1;33m)\u001b[0m\u001b[1;33m\u001b[0m\u001b[1;33m\u001b[0m\u001b[0m\n\u001b[0m",
      "\u001b[1;31mZeroDivisionError\u001b[0m: division by zero"
     ]
    }
   ],
   "source": [
    "print(2/0)"
   ]
  },
  {
   "cell_type": "code",
   "execution_count": 21,
   "metadata": {},
   "outputs": [
    {
     "ename": "TypeError",
     "evalue": "must be str, not int",
     "output_type": "error",
     "traceback": [
      "\u001b[1;31m---------------------------------------------------------------------------\u001b[0m",
      "\u001b[1;31mTypeError\u001b[0m                                 Traceback (most recent call last)",
      "\u001b[1;32m<ipython-input-21-a9c5405b26b9>\u001b[0m in \u001b[0;36m<module>\u001b[1;34m\u001b[0m\n\u001b[1;32m----> 1\u001b[1;33m \u001b[0mprint\u001b[0m\u001b[1;33m(\u001b[0m\u001b[1;34m\"4\"\u001b[0m\u001b[1;33m+\u001b[0m\u001b[1;36m5\u001b[0m\u001b[1;33m)\u001b[0m\u001b[1;33m\u001b[0m\u001b[1;33m\u001b[0m\u001b[0m\n\u001b[0m",
      "\u001b[1;31mTypeError\u001b[0m: must be str, not int"
     ]
    }
   ],
   "source": [
    "print(\"4\"+5)"
   ]
  },
  {
   "cell_type": "code",
   "execution_count": 22,
   "metadata": {},
   "outputs": [
    {
     "ename": "TypeError",
     "evalue": "unsupported operand type(s) for +: 'int' and 'str'",
     "output_type": "error",
     "traceback": [
      "\u001b[1;31m---------------------------------------------------------------------------\u001b[0m",
      "\u001b[1;31mTypeError\u001b[0m                                 Traceback (most recent call last)",
      "\u001b[1;32m<ipython-input-22-0f391457e615>\u001b[0m in \u001b[0;36m<module>\u001b[1;34m\u001b[0m\n\u001b[1;32m----> 1\u001b[1;33m \u001b[0mprint\u001b[0m\u001b[1;33m(\u001b[0m\u001b[1;36m5\u001b[0m\u001b[1;33m+\u001b[0m\u001b[1;34m\"3\"\u001b[0m\u001b[1;33m)\u001b[0m\u001b[1;33m\u001b[0m\u001b[1;33m\u001b[0m\u001b[0m\n\u001b[0m",
      "\u001b[1;31mTypeError\u001b[0m: unsupported operand type(s) for +: 'int' and 'str'"
     ]
    }
   ],
   "source": [
    "print(5+\"3\")"
   ]
  },
  {
   "cell_type": "code",
   "execution_count": null,
   "metadata": {},
   "outputs": [],
   "source": [
    "# try block 내부 코드를 실행.\n",
    "# 내부 코드 중 에러가 발생한다면 except block 코드 실행.\n",
    "try:\n",
    "    x = int(input(\"Please input a number : \"))\n",
    "except :\n",
    "    print(\"Oops! That was no valid number.  Try again...\")\n"
   ]
  },
  {
   "cell_type": "markdown",
   "metadata": {},
   "source": [
    "[내장 예외 리스트](https://docs.python.org/ko/3/library/exceptions.html)"
   ]
  },
  {
   "cell_type": "code",
   "execution_count": null,
   "metadata": {},
   "outputs": [],
   "source": [
    "try:\n",
    "    x = int(input(\"Please input a number : \"))\n",
    "    print(y)\n",
    "except ValueError as e:\n",
    "    print(\"ValueError !\")\n",
    "    \n",
    "except NameError as e:\n",
    "    print(\"NameError\")"
   ]
  },
  {
   "cell_type": "code",
   "execution_count": null,
   "metadata": {},
   "outputs": [],
   "source": [
    "while True:\n",
    "    try:\n",
    "        print(\"Test try!\")\n",
    "        x = int(input(\"Please input a number : \"))\n",
    "        print(y)\n",
    "        break\n",
    "    except ValueError as e:\n",
    "        print(e)\n",
    "    except NameError as e:\n",
    "        print(e)"
   ]
  },
  {
   "cell_type": "code",
   "execution_count": null,
   "metadata": {},
   "outputs": [],
   "source": [
    "class SelfError(Exception) : pass\n",
    "\n",
    "while True:\n",
    "    try:\n",
    "        print(\"Test try!\")\n",
    "        x = int(input(\"Please input a number : \"))\n",
    "        raise SelfError(\"Self Exception!\")\n",
    "        print(y)\n",
    "        break\n",
    "    except ValueError as e:\n",
    "        print(e)\n",
    "    #except SelfError as e:\n",
    "    #    print(e)"
   ]
  },
  {
   "cell_type": "code",
   "execution_count": null,
   "metadata": {},
   "outputs": [],
   "source": [
    "while True:\n",
    "    try:\n",
    "        x = int(input(\"Please input a number : \"))\n",
    "        if x <10:\n",
    "            raise ValueError(\"Lower than 10!!\")\n",
    "        break\n",
    "    except ValueError:\n",
    "        print(\"Oops! That was no valid number.  Try again...\")\n",
    "        raise\n",
    "    \n",
    "    else:\n",
    "        print(\"Now is else time.\")\n",
    "        \n",
    "    finally:\n",
    "        print(\"Test Exception\")"
   ]
  },
  {
   "cell_type": "code",
   "execution_count": null,
   "metadata": {},
   "outputs": [],
   "source": [
    "test_assertion = [1,2,3, 4]\n",
    "assert len(test_assertion) == 3, \"Asserts!\""
   ]
  },
  {
   "cell_type": "code",
   "execution_count": null,
   "metadata": {},
   "outputs": [],
   "source": [
    "def confirm_int(x):\n",
    "    assert type(x) == int, \"x is not int !\"\n",
    "    return x"
   ]
  },
  {
   "cell_type": "code",
   "execution_count": null,
   "metadata": {},
   "outputs": [],
   "source": [
    "x = 2"
   ]
  },
  {
   "cell_type": "code",
   "execution_count": null,
   "metadata": {},
   "outputs": [],
   "source": [
    "confirm_int(0.2)"
   ]
  }
 ],
 "metadata": {
  "kernelspec": {
   "display_name": "Python 3",
   "language": "python",
   "name": "python3"
  },
  "language_info": {
   "codemirror_mode": {
    "name": "ipython",
    "version": 3
   },
   "file_extension": ".py",
   "mimetype": "text/x-python",
   "name": "python",
   "nbconvert_exporter": "python",
   "pygments_lexer": "ipython3",
   "version": "3.6.7"
  }
 },
 "nbformat": 4,
 "nbformat_minor": 2
}
