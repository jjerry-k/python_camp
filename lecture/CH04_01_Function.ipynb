{
 "cells": [
  {
   "cell_type": "markdown",
   "metadata": {},
   "source": [
    "# 4-1 함수(Function)\n",
    "---\n",
    "\n",
    "## 1. 함수란 무엇이고 왜 사용하는가?\n",
    "<img src='./figures/box_function.png' width=\"150\" height=\"160\" title=\"함수 상자\">\n",
    "<br>\n",
    "<img src='./figures/math_function.png' width=\"190\" height=\"80\" title=\"수학에서 함수\">  \n",
    "    \n",
    "    - 프로그램에서 한 번 이상 실행할 수 있도록 여러 문을 그룹화하는 장치.\n",
    "    - 프로그램을 절차적으로 분해.\n",
    "    - 코드가 실행될 때마다 다른 입력값을 받을 수 있음.\n",
    "    - 코드의 재사용성을 높이고 코드 중복성을 최소화.  "
   ]
  },
  {
   "cell_type": "code",
   "execution_count": null,
   "metadata": {},
   "outputs": [],
   "source": [
    "# 입력 a, b를 받아 각각 제곱이 짝수인지 판별하는 프로그램\n",
    "a = 4\n",
    "b = 2\n",
    "\n",
    "result_a = (a**2)%2 \n",
    "result_b = (b**2)%2\n",
    "\n",
    "if (result_a or result_b) == 0:\n",
    "    print(\"둘 다 짝수입니다 !\")\n",
    "else:\n",
    "    print(\"하나 이상이 홀수입니다 !\")\n",
    "result = result_a or result_b"
   ]
  },
  {
   "cell_type": "code",
   "execution_count": null,
   "metadata": {},
   "outputs": [],
   "source": [
    "# 입력 a, b를 받아 각각 제곱이 짝수인지 판별하는 프로그램\n",
    "def func_1(val):\n",
    "    return (val**2)%2\n",
    "\n",
    "def func_2(val1, val2):\n",
    "    if (result_a or result_b) == 0:\n",
    "        print(\"둘 다 짝수입니다 !\")\n",
    "    else:\n",
    "        print(\"하나 이상이 홀수입니다 !\")\n",
    "    return (result_a or result_b)\n",
    "\n",
    "\n",
    "a = 4\n",
    "b = 2\n",
    "\n",
    "result_a = func_1(a)\n",
    "result_b = func_1(b)\n",
    "\n",
    "reult = func_2(result_a, result_b)"
   ]
  },
  {
   "cell_type": "markdown",
   "metadata": {},
   "source": [
    "## 2. 함수만들기 (def)\n",
    "\n",
    "- **def**\n",
    "    - 함수 객체를 만들고 함수 이름을 할당.\n",
    "    - 들여쓰기가 매우 중요.\n",
    "\n",
    "### (1) 기본적인 포맷\n",
    "``` python\n",
    "def 함수이름(입력값1, 입력값2, ... 입력값N):\n",
    "  수행 코드\n",
    "  ...\n",
    "  수행 코드\n",
    "  return 결과값\n",
    "```"
   ]
  },
  {
   "cell_type": "code",
   "execution_count": null,
   "metadata": {},
   "outputs": [],
   "source": [
    "def add(a, b):\n",
    "    c = a + b\n",
    "    return c\n",
    "\n",
    "# a, b에 순서대로 4, 6이 지정됨.\n",
    "result = add(4, 6)\n",
    "print(result)\n",
    "\n",
    "\n",
    "result = add(a = 4, b = 6)\n",
    "print(result)\n",
    "\n",
    "# 순서가 바뀌어도 b, a에 각각 지정했기 때문에 순서에 상관하지 않음.\n",
    "result = add(b = 6, a = 4)\n",
    "print(result)"
   ]
  },
  {
   "cell_type": "code",
   "execution_count": null,
   "metadata": {},
   "outputs": [],
   "source": [
    "def add(a, b):\n",
    "    return a + b\n",
    "\n",
    "result = add(4, 6)\n",
    "print(result)"
   ]
  },
  {
   "cell_type": "code",
   "execution_count": null,
   "metadata": {},
   "outputs": [],
   "source": [
    "# Sequence 는 + 시 concatenation! CH02_built-in_types 참고하세요!\n",
    "\n",
    "print(add([2,3,4], [2,3,1]))\n",
    "\n",
    "print(add('Python', 'MMMIL'))\n",
    "\n",
    "print(add((2,3,1), (1,2,1)))"
   ]
  },
  {
   "cell_type": "markdown",
   "metadata": {},
   "source": [
    "### (2) 입력값이 없는 경우\n",
    "``` python\n",
    "def 함수이름():\n",
    "    수행 코드\n",
    "    ...\n",
    "    수행 코드\n",
    "```"
   ]
  },
  {
   "cell_type": "code",
   "execution_count": null,
   "metadata": {},
   "outputs": [],
   "source": [
    "def greet():\n",
    "    print(\"Hello, Python!\")\n",
    "\n",
    "greet()"
   ]
  },
  {
   "cell_type": "markdown",
   "metadata": {},
   "source": [
    "### (3) 결과값이 없는 경우\n",
    "``` python\n",
    "def 함수이름(입력값1, 입력값2, ... 입력값N):\n",
    "    수행 코드\n",
    "    ...\n",
    "    수행 코드\n",
    "```"
   ]
  },
  {
   "cell_type": "code",
   "execution_count": null,
   "metadata": {},
   "outputs": [],
   "source": [
    "def greet_name(name):\n",
    "    print(\"Hello, \" + name)\n",
    "    \n",
    "greet_name(\"Jerry\")"
   ]
  },
  {
   "cell_type": "markdown",
   "metadata": {},
   "source": [
    "### (4) 제어문이 있는 경우\n",
    "``` python\n",
    "def 함수이름(입력값1, 입력값2, ... 입력값N):\n",
    "    수행 코드\n",
    "    ...\n",
    "    수행 코드\n",
    "    for 값 in Sequence:\n",
    "        if 조건 1:\n",
    "            수행 코드\n",
    "            ...\n",
    "            return 결과값 1\n",
    "        elif 조건 2 :\n",
    "            수행 코드\n",
    "            ...\n",
    "            return 결과값 2\n",
    "        else :\n",
    "            수행 코드\n",
    "            ...\n",
    "            return 결과값 3\n",
    "\n",
    "```"
   ]
  },
  {
   "cell_type": "code",
   "execution_count": null,
   "metadata": {},
   "outputs": [],
   "source": [
    "def intersect(val1, val2):\n",
    "    result = []\n",
    "    for x in val1:\n",
    "        if x in val2:\n",
    "            result.append(x)\n",
    "    return result\n",
    "\n",
    "print(intersect(\"SPAM\", \"SCAM\"))\n",
    "print(intersect(\"SPAM\", [\"S\",\"C\",\"A\",\"M\"]))"
   ]
  },
  {
   "cell_type": "markdown",
   "metadata": {},
   "source": [
    "### (5) 출력값이 여러 개인 경우\n",
    "``` python\n",
    "def 함수이름(입력값1, 입력값2, ... 입력값N):\n",
    "    수행 코드\n",
    "    ...\n",
    "    수행 코드\n",
    "    return 결과값 1, 결과값 2, ...결과값 N\n",
    "\n",
    "```"
   ]
  },
  {
   "cell_type": "code",
   "execution_count": null,
   "metadata": {},
   "outputs": [],
   "source": [
    "def compute(a, b):\n",
    "    result_1 = a + b\n",
    "    result_2 = a * b\n",
    "    return result_1, result_2\n",
    "\n",
    "# 결과값이 여러 개일때 호출하면 N개의 출력값이 tuple로 반환!\n",
    "print(compute(3, 4))\n",
    "\n",
    "# Unpacking\n",
    "# 다음과 같이 선언하면 a 에는 3, b 에는 7이 됨.\n",
    "a, b = compute(3, 4)\n",
    "print(a)\n",
    "print(b)"
   ]
  },
  {
   "cell_type": "markdown",
   "metadata": {},
   "source": [
    "## 3. Global & Local\n",
    "\n",
    "``` python\n",
    "a = 43\n",
    "\n",
    "def add(x, y):\n",
    "    a = x + y\n",
    "    print(a)\n",
    "    return a\n",
    "\n",
    "print(a)\n",
    "print(add(2, 4))\n",
    "print(a)\n",
    "\n",
    "```"
   ]
  },
  {
   "cell_type": "code",
   "execution_count": null,
   "metadata": {},
   "outputs": [],
   "source": [
    "a = 43\n",
    "\n",
    "def add(x, y):\n",
    "    a = x + y\n",
    "    print(a)\n",
    "    return a\n",
    "\n",
    "print(a)\n",
    "print(add(2, 4))\n",
    "print(a)"
   ]
  },
  {
   "cell_type": "code",
   "execution_count": null,
   "metadata": {},
   "outputs": [],
   "source": [
    "a = 43\n",
    "\n",
    "def add(x, y):\n",
    "    global a\n",
    "    a = x + y\n",
    "    print(a)\n",
    "    return a\n",
    "\n",
    "print(a)\n",
    "print(add(2, 4))\n",
    "print(a)"
   ]
  },
  {
   "cell_type": "code",
   "execution_count": null,
   "metadata": {},
   "outputs": [],
   "source": [
    "def test():\n",
    "    val = 5\n",
    "    print(val)\n",
    "test()\n",
    "print(val)"
   ]
  },
  {
   "cell_type": "code",
   "execution_count": null,
   "metadata": {},
   "outputs": [],
   "source": [
    "def test():\n",
    "    global val\n",
    "    val = 5\n",
    "    print(val)\n",
    "test()\n",
    "print(val)"
   ]
  },
  {
   "cell_type": "markdown",
   "metadata": {},
   "source": [
    "## 4. 매개변수\n",
    "\n",
    "### (1) * args\n",
    "- N 개의 매개변수를 받음.\n",
    "- * 을 이용.\n",
    "- *val, *python 등과 같이 *이름이라고 마음대로 선언해도 됨.\n",
    "- 보통은 arguments의 약자로 *args 로 사용.\n",
    "- tuple로 반환."
   ]
  },
  {
   "cell_type": "code",
   "execution_count": null,
   "metadata": {},
   "outputs": [],
   "source": [
    "def test(*args):\n",
    "    return args\n",
    "\n",
    "a = test(1, 2, 5, 3, 6)\n",
    "print(type(a))"
   ]
  },
  {
   "cell_type": "code",
   "execution_count": null,
   "metadata": {},
   "outputs": [],
   "source": [
    "def test(*val):\n",
    "    return val\n",
    "\n",
    "a = test(1, 2, 5, 3, 6)\n",
    "print(type(a))"
   ]
  },
  {
   "cell_type": "code",
   "execution_count": null,
   "metadata": {},
   "outputs": [],
   "source": [
    "def sum_all(*args):\n",
    "    result = 0\n",
    "    for x in args:\n",
    "        result += x\n",
    "    return result\n",
    "\n",
    "result = sum_all(8,1,5)\n",
    "print(result)\n",
    "\n",
    "result = sum_all(1,2,3,4,5,6,7)\n",
    "print(result)"
   ]
  },
  {
   "cell_type": "markdown",
   "metadata": {},
   "source": [
    "### (2) **kwargs\n",
    "- N개의 매개변수를 받음.\n",
    "- ** 을 이용.\n",
    "- **val, **python 등과 같이 **이름이라고 마음대로 선언해도 됨.\n",
    "- 보통은 keyword arguments 의 약자로 **kwargs 로 사용.\n",
    "- dictionary로 반환."
   ]
  },
  {
   "cell_type": "code",
   "execution_count": null,
   "metadata": {},
   "outputs": [],
   "source": [
    "def test(**kwargs):\n",
    "    return kwargs\n",
    "\n",
    "a = test(name=\"python\", ver=\"3.6.8\")\n",
    "print(type(a))\n",
    "print(a)"
   ]
  },
  {
   "cell_type": "code",
   "execution_count": null,
   "metadata": {},
   "outputs": [],
   "source": [
    "def addormat(**kwargs):\n",
    "    if kwargs['op'] == 'add':\n",
    "        result = 0\n",
    "        for x in kwargs['val']:\n",
    "            result += x\n",
    "        return result\n",
    "\n",
    "    elif kwargs['op'] == 'mul':\n",
    "        result = 1\n",
    "        for x in kwargs['val']:\n",
    "            result *= x\n",
    "        return result\n",
    "    \n",
    "print(addormat(op='mul', val=[2,6,3]))\n",
    "\n",
    "print(addormat(op='add', val=[2,6,3]))"
   ]
  },
  {
   "cell_type": "markdown",
   "metadata": {},
   "source": [
    "### Tip. Docstring\n",
    "- 함수에 대한 설명.\n",
    "``` python\n",
    "a = [1,2,3]\n",
    "a.append()\n",
    "```"
   ]
  },
  {
   "cell_type": "code",
   "execution_count": null,
   "metadata": {},
   "outputs": [],
   "source": [
    "def make_docstring():\n",
    "    \"\"\"\n",
    "    This Function is testing about docstring.\n",
    "    \"\"\"\n",
    "    pass"
   ]
  },
  {
   "cell_type": "code",
   "execution_count": null,
   "metadata": {},
   "outputs": [],
   "source": [
    "make_docstring()"
   ]
  },
  {
   "cell_type": "markdown",
   "metadata": {},
   "source": [
    "## 5. 함수만들기 (lambda)\n",
    "- lambda 표현식은 block을 이용한 statements가 아님.\n",
    "- 가벼운, 짧은 함수 만들때 이용.\n",
    "- lambda만 사용할 수 있고 def 안에 중첩하여 사용할 수 있음.\n",
    "\n",
    "```python\n",
    "lambda 매개변수1, 매개변수2, ... : 매개변수를 이용한 표현식\n",
    "```"
   ]
  },
  {
   "cell_type": "code",
   "execution_count": null,
   "metadata": {},
   "outputs": [],
   "source": [
    "def add_def(x, y):\n",
    "    return x+y\n",
    "\n",
    "add = lambda x, y: x+y\n"
   ]
  },
  {
   "cell_type": "code",
   "execution_count": null,
   "metadata": {},
   "outputs": [],
   "source": [
    "print(add_def(1, 2))\n",
    "print(add(1, 2))"
   ]
  }
 ],
 "metadata": {
  "kernelspec": {
   "display_name": "Python 3",
   "language": "python",
   "name": "python3"
  },
  "language_info": {
   "codemirror_mode": {
    "name": "ipython",
    "version": 3
   },
   "file_extension": ".py",
   "mimetype": "text/x-python",
   "name": "python",
   "nbconvert_exporter": "python",
   "pygments_lexer": "ipython3",
   "version": "3.6.7"
  }
 },
 "nbformat": 4,
 "nbformat_minor": 2
}
