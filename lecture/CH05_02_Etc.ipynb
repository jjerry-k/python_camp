{
 "cells": [
  {
   "cell_type": "markdown",
   "metadata": {},
   "source": [
    "# Built-in Functions \n",
    "\n",
    "- 파이썬에는 기본적으로 많은 함수들을 제공.\n",
    "\n",
    "- [참고 링크](https://docs.python.org/ko/3/library/functions.html)\n",
    "\n",
    "<img src=\"./figures/built_in_function.png\">"
   ]
  },
  {
   "cell_type": "code",
   "execution_count": null,
   "metadata": {},
   "outputs": [],
   "source": [
    "# abs()\n",
    "print(\"Test abs : \", abs(-5))\n",
    "\n",
    "# sum()\n",
    "print(\"Test sum : \", sum([1, 2, 4, 5, 6, 7]))\n",
    "\n",
    "# max()\n",
    "print(\"Test max : \", max(50, 30, 10, 55, 20, 300))\n",
    "\n",
    "# min()\n",
    "print(\"Test min : \", min(50, 30, 10, 55, 20, 300))\n",
    "\n",
    "# pow()\n",
    "print(\"Test pow : \", pow(5, 4))\n",
    "\n",
    "# round()\n",
    "print(\"Test round : \", round(3.2245))\n",
    "\n",
    "# sorted()\n",
    "print(\"Test sorted : \", sorted([5,4,3,2,1]))\n",
    "\n",
    "# len()\n",
    "print(\"Test len : \", len(\"python\"))"
   ]
  },
  {
   "cell_type": "markdown",
   "metadata": {},
   "source": [
    "# Module\n",
    "\n",
    "- 함수, 클래스등을 모아놓은 스크립트 파일.\n",
    "\n",
    "## Why Use Module\n",
    "- 효율성\n",
    "    - 자주 사용하는 함수....매번 스크립트에 선언하기 귀찮음..\n",
    "    - 스크립트에 **딱 한번** 적어놓고 쓰자!"
   ]
  },
  {
   "cell_type": "code",
   "execution_count": null,
   "metadata": {},
   "outputs": [],
   "source": [
    "%%writefile arithmetic.py\n",
    "def add(x, y):\n",
    "    \"\"\"\n",
    "    x+y\n",
    "    \"\"\"\n",
    "    return x + y\n",
    "\n",
    "def sub(x, y):\n",
    "    \"\"\"\n",
    "    x-y\n",
    "    \"\"\"\n",
    "    return x - y\n",
    "\n",
    "def mul(x, y):\n",
    "    \"\"\"\n",
    "    x*y\n",
    "    \"\"\"\n",
    "    return x*y\n",
    "\n",
    "def div(x, y):\n",
    "    \"\"\"\n",
    "    x/y\n",
    "    \"\"\"\n",
    "    return x/y"
   ]
  },
  {
   "cell_type": "markdown",
   "metadata": {},
   "source": [
    "```python\n",
    "import 모듈이름\n",
    "```\n",
    "- 모듈을 import 하겠다."
   ]
  },
  {
   "cell_type": "code",
   "execution_count": null,
   "metadata": {},
   "outputs": [],
   "source": [
    "import arithmetic"
   ]
  },
  {
   "cell_type": "code",
   "execution_count": null,
   "metadata": {},
   "outputs": [],
   "source": [
    "print(arithmetic.add(5, 2))\n",
    "print(arithmetic.sub(5, 2))\n",
    "print(arithmetic.mul(5, 2))\n",
    "print(arithmetic.div(5, 2))"
   ]
  },
  {
   "cell_type": "markdown",
   "metadata": {},
   "source": [
    "``` python\n",
    "import 모듈이름 as 별칭\n",
    "```\n",
    "- 모듈이름을 import 하고 별칭 이라고 하겠다."
   ]
  },
  {
   "cell_type": "code",
   "execution_count": null,
   "metadata": {},
   "outputs": [],
   "source": [
    "import arithmetic as am"
   ]
  },
  {
   "cell_type": "code",
   "execution_count": null,
   "metadata": {},
   "outputs": [],
   "source": [
    "print(am.add(5, 2))\n",
    "print(am.sub(5, 2))\n",
    "print(am.mul(5, 2))\n",
    "print(am.div(5, 2))"
   ]
  },
  {
   "cell_type": "markdown",
   "metadata": {},
   "source": [
    "```python\n",
    "from 모듈이름 import 모듈 함수 \n",
    "```\n",
    "- 모듈이름 에서 모듈함수를 import 하겠다.\n",
    "\n",
    "```python\n",
    "from 모듈이름 import * \n",
    "```\n",
    "- 모듈이름 에서 모든 모듈함수를 import 하겠다."
   ]
  },
  {
   "cell_type": "code",
   "execution_count": null,
   "metadata": {},
   "outputs": [],
   "source": [
    "from arithmetic import *"
   ]
  },
  {
   "cell_type": "code",
   "execution_count": null,
   "metadata": {},
   "outputs": [],
   "source": [
    "print(add(5, 2))\n",
    "print(sub(5, 2))\n",
    "print(mul(5, 2))\n",
    "print(div(5, 2))"
   ]
  },
  {
   "cell_type": "markdown",
   "metadata": {},
   "source": [
    "``` python\n",
    "from 모듈이름 import 모듈함수 as 별칭\n",
    "```\n",
    "\n",
    "- 모듈이름 에서 모듈함수를 import 하고 별칭 이라고 하겠다."
   ]
  },
  {
   "cell_type": "code",
   "execution_count": null,
   "metadata": {},
   "outputs": [],
   "source": [
    "from arithmetic import add as func_1\n",
    "from arithmetic import sub as func_2\n",
    "from arithmetic import mul as func_3\n",
    "from arithmetic import div as func_4"
   ]
  },
  {
   "cell_type": "code",
   "execution_count": null,
   "metadata": {},
   "outputs": [],
   "source": [
    "print(func_1(5, 2))\n",
    "print(func_2(5, 2))\n",
    "print(func_3(5, 2))\n",
    "print(func_4(5, 2))"
   ]
  },
  {
   "cell_type": "markdown",
   "metadata": {},
   "source": [
    "# Package\n",
    "- 모듈들을 폴더(디렉토리)의 구조로 관리할 수 있도록 해줌.\n",
    "\n",
    "<img src='./figures/package.png'>\n",
    "\n",
    "- 모듈을 패키지로 취급하게 하기 위해선 `__init__.py` 파일이 필요.\n",
    "    - python 3.3 이상에선 필요 없으나 호환성을 위해....."
   ]
  },
  {
   "cell_type": "markdown",
   "metadata": {},
   "source": [
    "\n",
    "```bash\n",
    "--self_package\n",
    "  -- __init__.py\n",
    "  -- test_math.py\n",
    "  -- module1\n",
    "    -- test_math.py\n",
    "  -- module2\n",
    "    -- test_math.py\n",
    "    \n",
    "```\n",
    "\n",
    "`test_math.py` 내용은 다음 과 같음. \n",
    "\n",
    "``` python\n",
    "#test_math.py\n",
    "def add(x, y):\n",
    "    \"\"\"\n",
    "    x+y\n",
    "    \"\"\"\n",
    "    return x + y\n",
    "\n",
    "def sub(x, y):\n",
    "    \"\"\"\n",
    "    x-y\n",
    "    \"\"\"\n",
    "    return x - y\n",
    "\n",
    "def mul(x, y):\n",
    "    \"\"\"\n",
    "    x*y\n",
    "    \"\"\"\n",
    "    return x*y\n",
    "\n",
    "def div(x, y):\n",
    "    \"\"\"\n",
    "    x/y\n",
    "    \"\"\"\n",
    "    return x/y\n",
    "```"
   ]
  },
  {
   "cell_type": "code",
   "execution_count": null,
   "metadata": {},
   "outputs": [],
   "source": [
    "# docstring에서 file 경로 확인!\n",
    "from self_package import test_math as package\n",
    "print(package.add(1, 2))\n",
    "print(package.sub(1, 2))\n",
    "print(package.mul(1, 2))\n",
    "print(package.div(1, 2))"
   ]
  },
  {
   "cell_type": "code",
   "execution_count": null,
   "metadata": {},
   "outputs": [],
   "source": [
    "# docstring에서 file 경로 확인!\n",
    "from self_package.module1 import test_math as module1\n",
    "print(module1.add(1, 2))\n",
    "print(module1.sub(1, 2))\n",
    "print(module1.mul(1, 2))\n",
    "print(module1.div(1, 2))"
   ]
  },
  {
   "cell_type": "code",
   "execution_count": null,
   "metadata": {},
   "outputs": [],
   "source": [
    "# docstring에서 file 경로 확인!\n",
    "from self_package.module2 import test_math as module2\n",
    "print(module2.add(1, 2))\n",
    "print(module2.sub(1, 2))\n",
    "print(module2.mul(1, 2))\n",
    "print(module2.div(1, 2))"
   ]
  },
  {
   "cell_type": "code",
   "execution_count": null,
   "metadata": {},
   "outputs": [],
   "source": [
    "from test_dir.sub_test1 import test as sub1"
   ]
  },
  {
   "cell_type": "code",
   "execution_count": null,
   "metadata": {},
   "outputs": [],
   "source": [
    "sub1.add()"
   ]
  },
  {
   "cell_type": "code",
   "execution_count": null,
   "metadata": {},
   "outputs": [],
   "source": [
    "from test_dir.sub_test2 import test as sub2"
   ]
  },
  {
   "cell_type": "markdown",
   "metadata": {},
   "source": [
    "# Error & Exception\n",
    "\n",
    "- 프로그램을 통한 제어의 흐름을 수정할 수있는 이벤트.\n",
    "\n",
    "- SyntaxError\n",
    "    - 문법 에러, 파싱 에러라고 하며 이름 그대로 문법에 오류가 있을 때 발생하는 에러.\n",
    "    - 에러가 발생한 위치를 ^ 를 이용하여 표시해줌.\n",
    "   \n",
    "- Exception\n",
    "    - 문법, 표현식에는 문제가 없지만 다른 이유로 발생하는 에러.\n",
    "    - 예외가 발생한 Line을 표시.\n",
    "    \n",
    "    \n",
    "- try/except/else/finally\n",
    "\n",
    "<img src='./figures/exception.png'>\n",
    "\n",
    "\n",
    "- raise\n",
    "- assert\n",
    "\n"
   ]
  },
  {
   "cell_type": "markdown",
   "metadata": {},
   "source": [
    "## Built-in exception"
   ]
  },
  {
   "cell_type": "code",
   "execution_count": null,
   "metadata": {
    "scrolled": false
   },
   "outputs": [],
   "source": [
    "print(\"sdw\""
   ]
  },
  {
   "cell_type": "code",
   "execution_count": null,
   "metadata": {},
   "outputs": [],
   "source": [
    "if i:\n",
    "print(\"Hello\")"
   ]
  },
  {
   "cell_type": "code",
   "execution_count": null,
   "metadata": {},
   "outputs": [],
   "source": [
    "print(test)"
   ]
  },
  {
   "cell_type": "code",
   "execution_count": null,
   "metadata": {},
   "outputs": [],
   "source": [
    "print(2/0)"
   ]
  },
  {
   "cell_type": "code",
   "execution_count": null,
   "metadata": {},
   "outputs": [],
   "source": [
    "print(\"4\"+5)"
   ]
  },
  {
   "cell_type": "code",
   "execution_count": null,
   "metadata": {},
   "outputs": [],
   "source": [
    "print(5+\"3\")"
   ]
  },
  {
   "cell_type": "markdown",
   "metadata": {},
   "source": [
    "- 이 외에도 매~~~~우 많은 Built-in exception 이 존재.  \n",
    "[Built-in exception list](https://docs.python.org/ko/3/library/exceptions.html)\n",
    "\n",
    "## try/except/else/finally"
   ]
  },
  {
   "cell_type": "code",
   "execution_count": null,
   "metadata": {},
   "outputs": [],
   "source": [
    "# try/except\n",
    "try:\n",
    "    print(\"try clause\")\n",
    "    x = int(input(\"Please input a number : \"))\n",
    "except :\n",
    "    print(\"except clause\")\n",
    "    print(\"Oops! That was no valid number.  Try again...\")\n"
   ]
  },
  {
   "cell_type": "code",
   "execution_count": null,
   "metadata": {},
   "outputs": [],
   "source": [
    "#try/except/except\n",
    "try:\n",
    "    print(\"Try clause\")\n",
    "    x = int(input(\"Please input a number : \"))\n",
    "    print(y)\n",
    "except ValueError:\n",
    "    print(\"1st except clause\")\n",
    "    print(\"ValueError !\")\n",
    "    \n",
    "except NameError:\n",
    "    print(\"2nd except clause\")\n",
    "    print(\"NameError !\")"
   ]
  },
  {
   "cell_type": "code",
   "execution_count": null,
   "metadata": {},
   "outputs": [],
   "source": [
    "try:\n",
    "    print(\"Try clause\")\n",
    "    x = int(input(\"Please input a number : \"))\n",
    "    print(y)\n",
    "except ValueError as e:\n",
    "    print(\"1st except clause\")\n",
    "    print(\"ValueError !\")\n",
    "    print(e)\n",
    "    \n",
    "except NameError as e:\n",
    "    print(\"2nd except clause\")\n",
    "    print(\"NameError\")\n",
    "    print(e)"
   ]
  },
  {
   "cell_type": "code",
   "execution_count": null,
   "metadata": {
    "scrolled": true
   },
   "outputs": [],
   "source": [
    "\n",
    "try:\n",
    "    print(\"\\n---------------------\")\n",
    "    print(\"Try clause\")\n",
    "    x = int(input(\"Please input a number : \"))\n",
    "except ValueError as e:\n",
    "    print(\"\\n---------------------\")\n",
    "    print(\"except clause\")\n",
    "    print(e)\n",
    "\n",
    "else:\n",
    "    print(\"\\n---------------------\")\n",
    "    print(\"nelse clause\")\n",
    "    print(\"x is \", x)\n",
    "    \n",
    "finally:\n",
    "    print(\"\\n---------------------\")\n",
    "    print(\"finally clause\")\n",
    "    print(\"End Exception\")"
   ]
  },
  {
   "cell_type": "code",
   "execution_count": null,
   "metadata": {},
   "outputs": [],
   "source": [
    "try:\n",
    "    raise Exception(\"Exception!\", \"What!?\")\n",
    "except Exception as e:\n",
    "    print(e)\n",
    "    print(type(e))\n",
    "    print(e.args)"
   ]
  },
  {
   "cell_type": "markdown",
   "metadata": {},
   "source": [
    "## 자신 만의 Exception & raise"
   ]
  },
  {
   "cell_type": "code",
   "execution_count": null,
   "metadata": {},
   "outputs": [],
   "source": [
    "class SelfError(Exception) : \n",
    "    pass"
   ]
  },
  {
   "cell_type": "code",
   "execution_count": null,
   "metadata": {
    "scrolled": true
   },
   "outputs": [],
   "source": [
    "while True:\n",
    "    try:\n",
    "        print(\"\\n---------------------\")\n",
    "        print(\"Try clause\")\n",
    "        x = int(input(\"Please input a number : \"))\n",
    "        if x<10:\n",
    "            raise SelfError(\"args1\", \"args2\")\n",
    "        break\n",
    "        \n",
    "    except ValueError as e:\n",
    "        print(\"\\n---------------------\")\n",
    "        print(\"1st except clause\")\n",
    "        print(e)\n",
    "    \n",
    "    except SelfError as e:\n",
    "        print(\"\\n---------------------\")\n",
    "        print(\"2nd except clause\")\n",
    "        print(e)\n",
    "        raise"
   ]
  },
  {
   "cell_type": "code",
   "execution_count": null,
   "metadata": {},
   "outputs": [],
   "source": [
    "while True:\n",
    "    try:\n",
    "        print(\"\\n---------------------\")\n",
    "        print(\"Try clause\")\n",
    "        x = int(input(\"Please input a number : \"))\n",
    "        if x<10:\n",
    "            raise SelfError()\n",
    "        break\n",
    "        \n",
    "    except ValueError as e:\n",
    "        print(\"\\n---------------------\")\n",
    "        print(\"1st except clause\")\n",
    "        print(e)\n",
    "    \n",
    "    except SelfError as e:\n",
    "        print(\"\\n---------------------\")\n",
    "        print(\"2nd except clause\")\n",
    "        print(e)\n",
    "        raise"
   ]
  },
  {
   "cell_type": "code",
   "execution_count": null,
   "metadata": {},
   "outputs": [],
   "source": [
    "try:\n",
    "    print(\"\\n---------------------\")\n",
    "    print(\"Try clause\")\n",
    "    x = int(input(\"Please input a number : \"))\n",
    "    if x <10:\n",
    "        raise ValueError(\"Lower than 10!!\")\n",
    "except ValueError as e:\n",
    "    print(\"\\n---------------------\")\n",
    "    print(\"except clause\")\n",
    "    raise\n",
    "\n",
    "else:\n",
    "    print(\"\\n---------------------\")\n",
    "    print(\"else clause\")\n",
    "    print(\"x is \", x)\n",
    "    \n",
    "finally:\n",
    "    print(\"\\n---------------------\")\n",
    "    print(\"finally clause\")\n",
    "    print(\"End Exception\")"
   ]
  },
  {
   "cell_type": "code",
   "execution_count": null,
   "metadata": {},
   "outputs": [],
   "source": [
    "while True:\n",
    "    try:\n",
    "        print(\"\\n---------------------\")\n",
    "        print(\"Try clause\")\n",
    "        x = int(input(\"Please input a number : \"))\n",
    "        if x <10:\n",
    "            raise ValueError(\"Lower than 10!!\")\n",
    "        \n",
    "    except ValueError as e:\n",
    "        print(\"\\n---------------------\")\n",
    "        print(\"except clause\")\n",
    "        print(e)\n",
    "        #raise\n",
    "    \n",
    "    else:\n",
    "        print(\"\\n---------------------\")\n",
    "        print(\"else clause\")\n",
    "        print(\"Now is else time.\")\n",
    "        break\n",
    "        \n",
    "    finally:\n",
    "        print(\"\\n---------------------\")\n",
    "        print(\"finally clause\")\n",
    "        print(\"End Exception\")"
   ]
  },
  {
   "cell_type": "markdown",
   "metadata": {},
   "source": [
    "## assert"
   ]
  },
  {
   "cell_type": "code",
   "execution_count": null,
   "metadata": {},
   "outputs": [],
   "source": [
    "test_assertion = [1, 2, 3, 4]\n",
    "assert len(test_assertion) == 3, \"Assertion Error!\""
   ]
  },
  {
   "cell_type": "code",
   "execution_count": null,
   "metadata": {},
   "outputs": [],
   "source": [
    "def confirm_int(x):\n",
    "    assert type(x) == int, \"x is not int !\"\n",
    "    return x"
   ]
  },
  {
   "cell_type": "code",
   "execution_count": null,
   "metadata": {},
   "outputs": [],
   "source": [
    "confirm_int(0.2)"
   ]
  }
 ],
 "metadata": {
  "kernelspec": {
   "display_name": "Python 3",
   "language": "python",
   "name": "python3"
  },
  "language_info": {
   "codemirror_mode": {
    "name": "ipython",
    "version": 3
   },
   "file_extension": ".py",
   "mimetype": "text/x-python",
   "name": "python",
   "nbconvert_exporter": "python",
   "pygments_lexer": "ipython3",
   "version": "3.6.7"
  }
 },
 "nbformat": 4,
 "nbformat_minor": 2
}
